{
  "cells": [
    {
      "cell_type": "markdown",
      "metadata": {
        "id": "view-in-github",
        "colab_type": "text"
      },
      "source": [
        "<a href=\"https://colab.research.google.com/github/Khanbir/Data_analitycs/blob/main/DZ_2_3_%D0%9C%D0%BE%D0%B4%D1%83%D0%BB%D1%96_%D0%92%D0%B8%D0%BD%D1%8F%D1%82%D0%BA%D0%B8.ipynb\" target=\"_parent\"><img src=\"https://colab.research.google.com/assets/colab-badge.svg\" alt=\"Open In Colab\"/></a>"
      ]
    },
    {
      "cell_type": "markdown",
      "id": "1561554f",
      "metadata": {
        "id": "1561554f"
      },
      "source": [
        "# Домашнє завдання до теми \"Модулі. Винятки (Exceptions)\"\n",
        "\n"
      ]
    },
    {
      "cell_type": "markdown",
      "metadata": {
        "ExecuteTime": {
          "end_time": "2022-10-22T04:15:21.939494Z",
          "start_time": "2022-10-22T04:15:21.933981Z"
        },
        "id": "c094769a"
      },
      "source": [
        "Почнемо з закріплення матеріалу щодо фукнцій і віпрацювання роботи з модулем `random`.\n",
        "\n",
        "1. Напишіть функцію `get_random_int_list`, яка приймає один аргумент - кількість чисел `n`, і повертає список, що містить `n` випадкових цілих чисел з діапазону від 0 до 100 включно. Для генерації випадкових чисел використовуйте модуль `random`.\n",
        "\n",
        "  **Вимоги до реалізації:**\n",
        "\n",
        "  - Функція повинна приймати один аргумент `n` - кількість чисел у списку.\n",
        "  - Для генерації випадкових чисел використовуйте функцію `random.randint(0, 100)`.\n",
        "  - Повернутий список має містити рівно `n` випадкових чисел.\n",
        "\n",
        "  **Приклади виклику функції та очікувані результати:**\n",
        "\n",
        "  1. **Приклад 1:**\n",
        "    - Виклик функції: `get_random_int_list(5)`\n",
        "    - Очікуваний результат: Список з 5 випадковими числами, наприклад, `[23, 77, 45, 8, 91]`. Кожен запуск може повертати різні числа через випадковість.\n",
        "\n",
        "  2. **Приклад 2:**\n",
        "    - Виклик функції: `get_random_int_list(3)`\n",
        "    - Очікуваний результат: Список з 3 випадковими числами, наприклад, `[64, 20, 37]`.\n",
        "\n",
        "  3. **Приклад 3:**\n",
        "    - Виклик функції: `get_random_int_list(0)`\n",
        "    - Очікуваний результат: Порожній список `[]`, оскільки було запитано 0 чисел.\n",
        "\n",
        "Продемонструйте результати робити функції запустивши код нижче."
      ],
      "id": "c094769a"
    },
    {
      "cell_type": "code",
      "source": [
        "import random  # Імпортуємо модуль random\n",
        "\n",
        "def get_random_int_list(n: int) -> list:\n",
        "    return [random.randint(0, 100) for _ in range(n)]  # Генеруємо список випадкових чисел\n",
        "\n",
        "# Перевірка функції на заданих прикладах\n",
        "print(get_random_int_list(5))  # Список з 5 випадковими числами\n",
        "print(get_random_int_list(3))  # Список з 3 випадковими числами\n",
        "print(get_random_int_list(0))  # Порожній список, якщо n=0\n"
      ],
      "metadata": {
        "id": "m5hUhAQaqP78",
        "colab": {
          "base_uri": "https://localhost:8080/"
        },
        "outputId": "37d89825-89f6-4552-aee0-529cbc5daaf3"
      },
      "id": "m5hUhAQaqP78",
      "execution_count": 2,
      "outputs": [
        {
          "output_type": "stream",
          "name": "stdout",
          "text": [
            "[37, 34, 72, 56, 85]\n",
            "[43, 24, 92]\n",
            "[]\n"
          ]
        }
      ]
    },
    {
      "cell_type": "markdown",
      "source": [
        "2. **Конвертер рядка в число**\n",
        "\n",
        "  **Опис завдання:**\n",
        "\n",
        "  Створіть функцію `string_to_int`, яка приймає рядок і намагається перетворити його в ціле число. Якщо рядок не можна перетворити на ціле число, функція повинна обробити виключення про неправильне значення, вивести на екран `\"Некоректне введення\"` і повернути `None`.\n",
        "\n",
        "  **Приклади виклику функції:**\n",
        "\n",
        "  - `string_to_int(\"123\")` повинно повернути `123`.\n",
        "  - `string_to_int(\"abc\")` повинно вивести повідомлення `\"Некоректне введення\"` і повернути `None`."
      ],
      "metadata": {
        "id": "iBHEcmV7R34X"
      },
      "id": "iBHEcmV7R34X"
    },
    {
      "cell_type": "markdown",
      "source": [
        "Продемонструйте результати робити функції запустивши код нижче."
      ],
      "metadata": {
        "id": "UbIaPiOHSgE7"
      },
      "id": "UbIaPiOHSgE7"
    },
    {
      "cell_type": "code",
      "source": [
        "def string_to_int(s: str) -> int:\n",
        "    try:\n",
        "        return int(s)  # Перетворюємо рядок у число\n",
        "    except ValueError:  # Якщо перетворення неможливе, обробляємо помилку\n",
        "        print(\"Некоректне введення\")\n",
        "        return None  # Повертаємо None у випадку помилки\n",
        "\n",
        "# Перевірка функції на заданих прикладах\n",
        "print(string_to_int(\"123\"))  # Очікуваний результат: 123\n",
        "print(string_to_int(\"abc\"))  # Очікуваний результат: \"Некоректне введення\" і None\n",
        "print(string_to_int(\"456.78\"))  # Теж буде \"Некоректне введення\" і None\n",
        "print(string_to_int(\"100\"))  # Очікуваний результат: 100\n"
      ],
      "metadata": {
        "colab": {
          "base_uri": "https://localhost:8080/"
        },
        "id": "nLBLjwZBU6mc",
        "outputId": "f01960cd-d273-4a79-c49f-2c09749936fd"
      },
      "id": "nLBLjwZBU6mc",
      "execution_count": 4,
      "outputs": [
        {
          "output_type": "stream",
          "name": "stdout",
          "text": [
            "123\n",
            "Некоректне введення\n",
            "None\n",
            "Некоректне введення\n",
            "None\n",
            "100\n"
          ]
        }
      ]
    },
    {
      "cell_type": "markdown",
      "source": [
        "3. **Контроль введення користувача**\n",
        "\n",
        "  Створіть функцію `check_age`, яка приймає на вхід вік користувача у форматі рядок і перевіряє, чи є користувач повнолітнім (18 років і старше). Якщо введене значення не може бути перетворено на ціле число, функція повинна обробити виняток, вивести на екран `\"Некоректне введення. Будь ласка, введіть числове значення.\"` і повернути `False`. Якщо вік користувача менше 18, вивести повідомлення `\"Ви не повнолітній!\"` і також повернути `False`. У випадку, коли вік 18 років або більше, вивести повідомлення `\"Ви повнолітній.\"` і повернути `True`.\n",
        "\n",
        "  **Приклад роботи програми:**\n",
        "\n",
        "  1. Користувач вводить `\"двадцять\"`: програма виводить на екрнан `\"Некоректне введення. Будь ласка, введіть числове значення.\"` і повертає `False`.\n",
        "  2. Користувач вводить `\"17\"`: програма виводить `\"Ви не повнолітній!\"` і повертає `False`.\n",
        "  3. Користувач вводить `\"18\"`: програма виводить `\"Ви повнолітній.\"` і повертає `True`.\n"
      ],
      "metadata": {
        "id": "KkzLp29pQ1-U"
      },
      "id": "KkzLp29pQ1-U"
    },
    {
      "cell_type": "code",
      "source": [
        "def check_age(age: str) -> bool:\n",
        "    try:\n",
        "        age_int = int(age)  # Перетворюємо введений рядок у ціле число\n",
        "    except ValueError:  # Якщо перетворення неможливе, обробляємо помилку\n",
        "        print(\"Некоректне введення. Будь ласка, введіть числове значення.\")\n",
        "        return False\n",
        "\n",
        "    if age_int < 18:  # Перевіряємо, чи користувач не повнолітній\n",
        "        print(\"Ви не повнолітній!\")\n",
        "        return False\n",
        "\n",
        "    print(\"Ви повнолітній.\")  # Якщо вік 18 або більше, виводимо повідомлення\n",
        "    return True\n",
        "\n",
        "# Перевірка функції на заданих прикладах\n",
        "print(check_age(\"двадцять\"))  # Очікуваний результат: \"Некоректне введення...\" і False\n",
        "print(check_age(\"17\"))  # Очікуваний результат: \"Ви не повнолітній!\" і False\n",
        "print(check_age(\"18\"))  # Очікуваний результат: \"Ви повнолітній.\" і True\n",
        "print(check_age(\"20\"))  # Додатковий тест: \"Ви повнолітній.\" і True\n",
        "print(check_age(\"-5\"))  # Додатковий тест: \"Ви не повнолітній!\" і False\n"
      ],
      "metadata": {
        "id": "K3PTENm-Ae3-",
        "colab": {
          "base_uri": "https://localhost:8080/"
        },
        "outputId": "09cb4d2d-40d4-4603-8309-f3d8165f4c27"
      },
      "execution_count": 5,
      "outputs": [
        {
          "output_type": "stream",
          "name": "stdout",
          "text": [
            "Некоректне введення. Будь ласка, введіть числове значення.\n",
            "False\n",
            "Ви не повнолітній!\n",
            "False\n",
            "Ви повнолітній.\n",
            "True\n",
            "Ви повнолітній.\n",
            "True\n",
            "Ви не повнолітній!\n",
            "False\n"
          ]
        }
      ],
      "id": "K3PTENm-Ae3-"
    },
    {
      "cell_type": "markdown",
      "source": [
        "Продемонструйте результати робити функції запустивши код нижче."
      ],
      "metadata": {
        "id": "huphMh7YR2GJ"
      },
      "id": "huphMh7YR2GJ"
    },
    {
      "cell_type": "markdown",
      "source": [
        "4. **Обчислення середнього з перевіркою:** Напишіть функцію `calculate_average`, яка приймає на вхід список чисел і обчислює середнє арифметичне значення цих чисел. Функція повинна перевіряти, що всі елементи списку є числами. Якщо серед елементів списку зустрічається елемент, який не є числом, функція повинна вивести повідомлення `\"Всі елементи повинні бути числами\"` і повернути `None`.\n",
        "\n",
        "  **Приклади виклику функції:**\n",
        "\n",
        "  - `calculate_average([1, 2, 3, 4, 5])` повинно повернути `3.0`.\n",
        "  - `calculate_average([1, \"2\", 3])` повинно вивести `\"Всі елементи повинні бути числами\"` і повернути `None`.\n",
        "  - `calculate_average([-1.1, \"ф\", 4])` повинно вивести `\"Всі елементи повинні бути числами\"` і повернути `None`."
      ],
      "metadata": {
        "id": "CQg-zIJGTqjw"
      },
      "id": "CQg-zIJGTqjw"
    },
    {
      "cell_type": "code",
      "source": [
        "def calculate_average(numbers: list) -> float:\n",
        "    if not all(isinstance(num, (int, float)) for num in numbers):  # Перевіряємо тип кожного елемента\n",
        "        print(\"Всі елементи повинні бути числами\")\n",
        "        return None\n",
        "\n",
        "    return sum(numbers) / len(numbers) if numbers else None  # Обчислюємо середнє, якщо список не порожній\n",
        "\n",
        "# Перевірка функції на заданих прикладах\n",
        "print(calculate_average([1, 2, 3, 4, 5]))  # Очікуваний результат: 3.0\n",
        "print(calculate_average([1, \"2\", 3]))  # Очікуваний результат: \"Всі елементи повинні бути числами\" і None\n",
        "print(calculate_average([-1.1, \"ф\", 4]))  # Очікуваний результат: \"Всі елементи повинні бути числами\" і None\n",
        "print(calculate_average([]))  # Додатковий тест: поверне None\n"
      ],
      "metadata": {
        "id": "91VU_y5sUAKB",
        "colab": {
          "base_uri": "https://localhost:8080/"
        },
        "outputId": "36199251-9e73-4763-e547-b1c3ba5e279e"
      },
      "execution_count": 6,
      "outputs": [
        {
          "output_type": "stream",
          "name": "stdout",
          "text": [
            "3.0\n",
            "Всі елементи повинні бути числами\n",
            "None\n",
            "Всі елементи повинні бути числами\n",
            "None\n",
            "None\n"
          ]
        }
      ],
      "id": "91VU_y5sUAKB"
    }
  ],
  "metadata": {
    "kernelspec": {
      "display_name": "Python 3 (ipykernel)",
      "language": "python",
      "name": "python3"
    },
    "language_info": {
      "codemirror_mode": {
        "name": "ipython",
        "version": 3
      },
      "file_extension": ".py",
      "mimetype": "text/x-python",
      "name": "python",
      "nbconvert_exporter": "python",
      "pygments_lexer": "ipython3",
      "version": "3.10.4"
    },
    "toc": {
      "base_numbering": 1,
      "nav_menu": {},
      "number_sections": true,
      "sideBar": true,
      "skip_h1_title": false,
      "title_cell": "Table of Contents",
      "title_sidebar": "Contents",
      "toc_cell": false,
      "toc_position": {},
      "toc_section_display": true,
      "toc_window_display": false
    },
    "colab": {
      "provenance": [],
      "include_colab_link": true
    }
  },
  "nbformat": 4,
  "nbformat_minor": 5
}